{
  "cells": [
    {
      "cell_type": "markdown",
      "metadata": {
        "id": "6jDAYL-sfgjh"
      },
      "source": [
        "# EDA with Pandas - Cumulative Lab\n",
        "\n",
        "## Introduction\n",
        "\n",
        "In this section, you've learned a lot about importing, cleaning up, analyzing (using descriptive statistics) and visualizing data. In this cumulative lab, you'll get a chance to practice all of these skills with the Ames Housing dataset, which contains information about home sales in Ames, Iowa between 2006 and 2010.\n",
        "\n",
        "## Objectives\n",
        "\n",
        "You will be able to:\n",
        "\n",
        "* Practice loading data with pandas\n",
        "* Practice calculating measures of centrality and dispersion with pandas\n",
        "* Practice creating subsets of data with pandas\n",
        "* Practice using data visualizations to explore data, and interpreting those visualizations\n",
        "* Perform a full exploratory data analysis process to gain insight about a dataset "
      ]
    },
    {
      "cell_type": "markdown",
      "metadata": {
        "id": "kmMnFn4yfgjj"
      },
      "source": [
        "## Your Task: Explore the Ames Housing Dataset with Pandas\n",
        "\n",
        "![aerial photo of a neighborhood](https://github.com/bmjaron/dsc-pandas-eda-lab/blob/master/images/neighborhood_aerial.jpg?raw=1)\n",
        "\n",
        "Photo by <a href=\"https://unsplash.com/@mattdonders?utm_source=unsplash&utm_medium=referral&utm_content=creditCopyText\">Matt Donders</a> on <a href=\"/@mattdonders?utm_source=unsplash&utm_medium=referral&utm_content=creditCopyText\">Unsplash</a>\n",
        "\n"
      ]
    },
    {
      "cell_type": "markdown",
      "metadata": {
        "id": "-NVEqbG7fgjj"
      },
      "source": [
        "### Data Understanding\n",
        "\n",
        "Each record (row) in this dataset represents a home that was sold in Ames, IA.\n",
        "\n",
        "Each feature (column) in this dataset is some attribute of that home sale. You can view the file `data/data_description.txt` in this repository for a full explanation of all variables in this dataset — 80 columns in total.\n",
        "\n",
        "We are going to focus on the following features:\n",
        "\n",
        "**SalePrice**: `Sale price of the house in dollars`\n",
        "\n",
        "**TotRmsAbvGrd**: `Total rooms above grade (does not include bathrooms)`\n",
        "\n",
        "**OverallCond**: `Rates the overall condition of the house`\n",
        "```\n",
        "       10\tVery Excellent\n",
        "       9\t Excellent\n",
        "       8\t Very Good\n",
        "       7\t Good\n",
        "       6\t Above Average\t\n",
        "       5\t Average\n",
        "       4\t Below Average\t\n",
        "       3\t Fair\n",
        "       2\t Poor\n",
        "       1\t Very Poor\n",
        "```\n",
        "\n",
        "**YrSold**: `Year Sold (YYYY)`\n",
        "\n",
        "**YearBuilt**: `Original construction date`\n",
        "\n",
        "**LandSlope**: `Slope of property`\n",
        "```\n",
        "       Gtl\tGentle slope\n",
        "       Mod\tModerate Slope\t\n",
        "       Sev\tSevere Slope\n",
        "```"
      ]
    },
    {
      "cell_type": "markdown",
      "metadata": {
        "id": "Bq2C-679fgjp"
      },
      "source": [
        "### Requirements\n",
        "\n",
        "In this lab you will use your data munging and visualization skills to conduct an exploratory analysis of the dataset.\n",
        "\n",
        "#### 1. Load the Dataset with Pandas\n",
        "\n",
        "Import pandas with the standard alias `pd` and load the data into a dataframe with the standard name `df`.\n",
        "\n",
        "#### 2. Explore Data Distributions\n",
        "\n",
        "Produce summary statistics, visualizations, and interpretive text describing the distributions of `SalePrice`, `TotRmsAbvGrd`, and `OverallCond`.\n",
        "\n",
        "#### 3. Explore Differences between Subsets\n",
        "\n",
        "Separate the data into subsets based on `OverallCond`, then demonstrate how this split impacts the distribution of `SalePrice`.\n",
        "\n",
        "#### 4. Explore Correlations\n",
        "\n",
        "Find the features that have the strongest positive and negative correlations with `SalePrice`, and produce plots representing these relationships.\n",
        "\n",
        "#### 5. Engineer and Explore a New Feature\n",
        "\n",
        "Create a new feature `Age`, which represents the difference between the year sold and the year built, and plot the relationship between the age and sale price."
      ]
    },
    {
      "cell_type": "markdown",
      "metadata": {
        "id": "ae2T2GTEfgjp"
      },
      "source": [
        "## 1. Load the Dataset with Pandas\n",
        "\n",
        "In the cell below, import:\n",
        "* `pandas` with the standard alias `pd`\n",
        "* `matplotlib.pyplot` with the standard alias `plt`\n",
        "\n",
        "And set `%matplotlib inline` so the graphs will display immediately below the cell that creates them."
      ]
    },
    {
      "cell_type": "code",
      "execution_count": 3,
      "metadata": {
        "id": "rT3FQhcQfgjp"
      },
      "outputs": [],
      "source": [
        "import pandas as pd\n",
        "import matplotlib.pyplot as plt \n",
        "%matplotlib inline"
      ]
    },
    {
      "cell_type": "markdown",
      "metadata": {
        "id": "ndPu3RAsfgjq"
      },
      "source": [
        "Now, use pandas to open the file located at `data/ames.csv` ([documentation here](https://pandas.pydata.org/pandas-docs/stable/reference/api/pandas.read_csv.html)). Specify the argument `index_col=0` in order to avoid creating an extra `Id` column. Name the resulting dataframe `df`."
      ]
    },
    {
      "cell_type": "code",
      "execution_count": 8,
      "metadata": {
        "id": "ASNKXLdUfgjq",
        "outputId": "837f9039-e12a-4b00-b0b5-0bd5d63cba0c",
        "colab": {
          "base_uri": "https://localhost:8080/",
          "height": 331
        }
      },
      "outputs": [
        {
          "output_type": "execute_result",
          "data": {
            "text/plain": [
              "    MSSubClass MSZoning  LotFrontage  LotArea Street Alley LotShape  \\\n",
              "Id                                                                    \n",
              "1           60       RL         65.0     8450   Pave   NaN      Reg   \n",
              "2           20       RL         80.0     9600   Pave   NaN      Reg   \n",
              "3           60       RL         68.0    11250   Pave   NaN      IR1   \n",
              "4           70       RL         60.0     9550   Pave   NaN      IR1   \n",
              "5           60       RL         84.0    14260   Pave   NaN      IR1   \n",
              "\n",
              "   LandContour Utilities LotConfig  ... PoolArea PoolQC Fence MiscFeature  \\\n",
              "Id                                  ...                                     \n",
              "1          Lvl    AllPub    Inside  ...        0    NaN   NaN         NaN   \n",
              "2          Lvl    AllPub       FR2  ...        0    NaN   NaN         NaN   \n",
              "3          Lvl    AllPub    Inside  ...        0    NaN   NaN         NaN   \n",
              "4          Lvl    AllPub    Corner  ...        0    NaN   NaN         NaN   \n",
              "5          Lvl    AllPub       FR2  ...        0    NaN   NaN         NaN   \n",
              "\n",
              "   MiscVal MoSold  YrSold  SaleType  SaleCondition  SalePrice  \n",
              "Id                                                             \n",
              "1        0      2    2008        WD         Normal     208500  \n",
              "2        0      5    2007        WD         Normal     181500  \n",
              "3        0      9    2008        WD         Normal     223500  \n",
              "4        0      2    2006        WD        Abnorml     140000  \n",
              "5        0     12    2008        WD         Normal     250000  \n",
              "\n",
              "[5 rows x 80 columns]"
            ],
            "text/html": [
              "\n",
              "  <div id=\"df-073ab69f-35df-454c-ba3c-0db793948399\">\n",
              "    <div class=\"colab-df-container\">\n",
              "      <div>\n",
              "<style scoped>\n",
              "    .dataframe tbody tr th:only-of-type {\n",
              "        vertical-align: middle;\n",
              "    }\n",
              "\n",
              "    .dataframe tbody tr th {\n",
              "        vertical-align: top;\n",
              "    }\n",
              "\n",
              "    .dataframe thead th {\n",
              "        text-align: right;\n",
              "    }\n",
              "</style>\n",
              "<table border=\"1\" class=\"dataframe\">\n",
              "  <thead>\n",
              "    <tr style=\"text-align: right;\">\n",
              "      <th></th>\n",
              "      <th>MSSubClass</th>\n",
              "      <th>MSZoning</th>\n",
              "      <th>LotFrontage</th>\n",
              "      <th>LotArea</th>\n",
              "      <th>Street</th>\n",
              "      <th>Alley</th>\n",
              "      <th>LotShape</th>\n",
              "      <th>LandContour</th>\n",
              "      <th>Utilities</th>\n",
              "      <th>LotConfig</th>\n",
              "      <th>...</th>\n",
              "      <th>PoolArea</th>\n",
              "      <th>PoolQC</th>\n",
              "      <th>Fence</th>\n",
              "      <th>MiscFeature</th>\n",
              "      <th>MiscVal</th>\n",
              "      <th>MoSold</th>\n",
              "      <th>YrSold</th>\n",
              "      <th>SaleType</th>\n",
              "      <th>SaleCondition</th>\n",
              "      <th>SalePrice</th>\n",
              "    </tr>\n",
              "    <tr>\n",
              "      <th>Id</th>\n",
              "      <th></th>\n",
              "      <th></th>\n",
              "      <th></th>\n",
              "      <th></th>\n",
              "      <th></th>\n",
              "      <th></th>\n",
              "      <th></th>\n",
              "      <th></th>\n",
              "      <th></th>\n",
              "      <th></th>\n",
              "      <th></th>\n",
              "      <th></th>\n",
              "      <th></th>\n",
              "      <th></th>\n",
              "      <th></th>\n",
              "      <th></th>\n",
              "      <th></th>\n",
              "      <th></th>\n",
              "      <th></th>\n",
              "      <th></th>\n",
              "      <th></th>\n",
              "    </tr>\n",
              "  </thead>\n",
              "  <tbody>\n",
              "    <tr>\n",
              "      <th>1</th>\n",
              "      <td>60</td>\n",
              "      <td>RL</td>\n",
              "      <td>65.0</td>\n",
              "      <td>8450</td>\n",
              "      <td>Pave</td>\n",
              "      <td>NaN</td>\n",
              "      <td>Reg</td>\n",
              "      <td>Lvl</td>\n",
              "      <td>AllPub</td>\n",
              "      <td>Inside</td>\n",
              "      <td>...</td>\n",
              "      <td>0</td>\n",
              "      <td>NaN</td>\n",
              "      <td>NaN</td>\n",
              "      <td>NaN</td>\n",
              "      <td>0</td>\n",
              "      <td>2</td>\n",
              "      <td>2008</td>\n",
              "      <td>WD</td>\n",
              "      <td>Normal</td>\n",
              "      <td>208500</td>\n",
              "    </tr>\n",
              "    <tr>\n",
              "      <th>2</th>\n",
              "      <td>20</td>\n",
              "      <td>RL</td>\n",
              "      <td>80.0</td>\n",
              "      <td>9600</td>\n",
              "      <td>Pave</td>\n",
              "      <td>NaN</td>\n",
              "      <td>Reg</td>\n",
              "      <td>Lvl</td>\n",
              "      <td>AllPub</td>\n",
              "      <td>FR2</td>\n",
              "      <td>...</td>\n",
              "      <td>0</td>\n",
              "      <td>NaN</td>\n",
              "      <td>NaN</td>\n",
              "      <td>NaN</td>\n",
              "      <td>0</td>\n",
              "      <td>5</td>\n",
              "      <td>2007</td>\n",
              "      <td>WD</td>\n",
              "      <td>Normal</td>\n",
              "      <td>181500</td>\n",
              "    </tr>\n",
              "    <tr>\n",
              "      <th>3</th>\n",
              "      <td>60</td>\n",
              "      <td>RL</td>\n",
              "      <td>68.0</td>\n",
              "      <td>11250</td>\n",
              "      <td>Pave</td>\n",
              "      <td>NaN</td>\n",
              "      <td>IR1</td>\n",
              "      <td>Lvl</td>\n",
              "      <td>AllPub</td>\n",
              "      <td>Inside</td>\n",
              "      <td>...</td>\n",
              "      <td>0</td>\n",
              "      <td>NaN</td>\n",
              "      <td>NaN</td>\n",
              "      <td>NaN</td>\n",
              "      <td>0</td>\n",
              "      <td>9</td>\n",
              "      <td>2008</td>\n",
              "      <td>WD</td>\n",
              "      <td>Normal</td>\n",
              "      <td>223500</td>\n",
              "    </tr>\n",
              "    <tr>\n",
              "      <th>4</th>\n",
              "      <td>70</td>\n",
              "      <td>RL</td>\n",
              "      <td>60.0</td>\n",
              "      <td>9550</td>\n",
              "      <td>Pave</td>\n",
              "      <td>NaN</td>\n",
              "      <td>IR1</td>\n",
              "      <td>Lvl</td>\n",
              "      <td>AllPub</td>\n",
              "      <td>Corner</td>\n",
              "      <td>...</td>\n",
              "      <td>0</td>\n",
              "      <td>NaN</td>\n",
              "      <td>NaN</td>\n",
              "      <td>NaN</td>\n",
              "      <td>0</td>\n",
              "      <td>2</td>\n",
              "      <td>2006</td>\n",
              "      <td>WD</td>\n",
              "      <td>Abnorml</td>\n",
              "      <td>140000</td>\n",
              "    </tr>\n",
              "    <tr>\n",
              "      <th>5</th>\n",
              "      <td>60</td>\n",
              "      <td>RL</td>\n",
              "      <td>84.0</td>\n",
              "      <td>14260</td>\n",
              "      <td>Pave</td>\n",
              "      <td>NaN</td>\n",
              "      <td>IR1</td>\n",
              "      <td>Lvl</td>\n",
              "      <td>AllPub</td>\n",
              "      <td>FR2</td>\n",
              "      <td>...</td>\n",
              "      <td>0</td>\n",
              "      <td>NaN</td>\n",
              "      <td>NaN</td>\n",
              "      <td>NaN</td>\n",
              "      <td>0</td>\n",
              "      <td>12</td>\n",
              "      <td>2008</td>\n",
              "      <td>WD</td>\n",
              "      <td>Normal</td>\n",
              "      <td>250000</td>\n",
              "    </tr>\n",
              "  </tbody>\n",
              "</table>\n",
              "<p>5 rows × 80 columns</p>\n",
              "</div>\n",
              "      <button class=\"colab-df-convert\" onclick=\"convertToInteractive('df-073ab69f-35df-454c-ba3c-0db793948399')\"\n",
              "              title=\"Convert this dataframe to an interactive table.\"\n",
              "              style=\"display:none;\">\n",
              "        \n",
              "  <svg xmlns=\"http://www.w3.org/2000/svg\" height=\"24px\"viewBox=\"0 0 24 24\"\n",
              "       width=\"24px\">\n",
              "    <path d=\"M0 0h24v24H0V0z\" fill=\"none\"/>\n",
              "    <path d=\"M18.56 5.44l.94 2.06.94-2.06 2.06-.94-2.06-.94-.94-2.06-.94 2.06-2.06.94zm-11 1L8.5 8.5l.94-2.06 2.06-.94-2.06-.94L8.5 2.5l-.94 2.06-2.06.94zm10 10l.94 2.06.94-2.06 2.06-.94-2.06-.94-.94-2.06-.94 2.06-2.06.94z\"/><path d=\"M17.41 7.96l-1.37-1.37c-.4-.4-.92-.59-1.43-.59-.52 0-1.04.2-1.43.59L10.3 9.45l-7.72 7.72c-.78.78-.78 2.05 0 2.83L4 21.41c.39.39.9.59 1.41.59.51 0 1.02-.2 1.41-.59l7.78-7.78 2.81-2.81c.8-.78.8-2.07 0-2.86zM5.41 20L4 18.59l7.72-7.72 1.47 1.35L5.41 20z\"/>\n",
              "  </svg>\n",
              "      </button>\n",
              "      \n",
              "  <style>\n",
              "    .colab-df-container {\n",
              "      display:flex;\n",
              "      flex-wrap:wrap;\n",
              "      gap: 12px;\n",
              "    }\n",
              "\n",
              "    .colab-df-convert {\n",
              "      background-color: #E8F0FE;\n",
              "      border: none;\n",
              "      border-radius: 50%;\n",
              "      cursor: pointer;\n",
              "      display: none;\n",
              "      fill: #1967D2;\n",
              "      height: 32px;\n",
              "      padding: 0 0 0 0;\n",
              "      width: 32px;\n",
              "    }\n",
              "\n",
              "    .colab-df-convert:hover {\n",
              "      background-color: #E2EBFA;\n",
              "      box-shadow: 0px 1px 2px rgba(60, 64, 67, 0.3), 0px 1px 3px 1px rgba(60, 64, 67, 0.15);\n",
              "      fill: #174EA6;\n",
              "    }\n",
              "\n",
              "    [theme=dark] .colab-df-convert {\n",
              "      background-color: #3B4455;\n",
              "      fill: #D2E3FC;\n",
              "    }\n",
              "\n",
              "    [theme=dark] .colab-df-convert:hover {\n",
              "      background-color: #434B5C;\n",
              "      box-shadow: 0px 1px 3px 1px rgba(0, 0, 0, 0.15);\n",
              "      filter: drop-shadow(0px 1px 2px rgba(0, 0, 0, 0.3));\n",
              "      fill: #FFFFFF;\n",
              "    }\n",
              "  </style>\n",
              "\n",
              "      <script>\n",
              "        const buttonEl =\n",
              "          document.querySelector('#df-073ab69f-35df-454c-ba3c-0db793948399 button.colab-df-convert');\n",
              "        buttonEl.style.display =\n",
              "          google.colab.kernel.accessAllowed ? 'block' : 'none';\n",
              "\n",
              "        async function convertToInteractive(key) {\n",
              "          const element = document.querySelector('#df-073ab69f-35df-454c-ba3c-0db793948399');\n",
              "          const dataTable =\n",
              "            await google.colab.kernel.invokeFunction('convertToInteractive',\n",
              "                                                     [key], {});\n",
              "          if (!dataTable) return;\n",
              "\n",
              "          const docLinkHtml = 'Like what you see? Visit the ' +\n",
              "            '<a target=\"_blank\" href=https://colab.research.google.com/notebooks/data_table.ipynb>data table notebook</a>'\n",
              "            + ' to learn more about interactive tables.';\n",
              "          element.innerHTML = '';\n",
              "          dataTable['output_type'] = 'display_data';\n",
              "          await google.colab.output.renderOutput(dataTable, element);\n",
              "          const docLink = document.createElement('div');\n",
              "          docLink.innerHTML = docLinkHtml;\n",
              "          element.appendChild(docLink);\n",
              "        }\n",
              "      </script>\n",
              "    </div>\n",
              "  </div>\n",
              "  "
            ]
          },
          "metadata": {},
          "execution_count": 8
        }
      ],
      "source": [
        "url = 'https://raw.githubusercontent.com/bmjaron/dsc-pandas-eda-lab/master/data/ames.csv'\n",
        "df = pd.read_csv(url, index_col=0, encoding='unicode_escape')\n",
        "df.head()"
      ]
    },
    {
      "cell_type": "markdown",
      "metadata": {
        "id": "Zy8xIWNDfgjq"
      },
      "source": [
        "The following code checks that you loaded the data correctly:"
      ]
    },
    {
      "cell_type": "code",
      "execution_count": 9,
      "metadata": {
        "id": "leLZAj1lfgjq"
      },
      "outputs": [],
      "source": [
        "# Run this cell without changes\n",
        "\n",
        "# Check that df is a dataframe\n",
        "assert type(df) == pd.DataFrame\n",
        "\n",
        "# Check that there are the correct number of rows\n",
        "assert df.shape[0] == 1460\n",
        "\n",
        "# Check that there are the correct number of columns\n",
        "# (if this crashes, make sure you specified `index_col=0`)\n",
        "assert df.shape[1] == 80"
      ]
    },
    {
      "cell_type": "markdown",
      "metadata": {
        "id": "ghMuTyi4fgjr"
      },
      "source": [
        "Inspect the contents of the dataframe:"
      ]
    },
    {
      "cell_type": "code",
      "execution_count": 10,
      "metadata": {
        "id": "1rq5-4Odfgjr",
        "outputId": "457cae5c-e3bd-4c4c-f0cf-a64a2a61e7f3",
        "colab": {
          "base_uri": "https://localhost:8080/",
          "height": 519
        }
      },
      "outputs": [
        {
          "output_type": "execute_result",
          "data": {
            "text/plain": [
              "      MSSubClass MSZoning  LotFrontage  LotArea Street Alley LotShape  \\\n",
              "Id                                                                      \n",
              "1             60       RL         65.0     8450   Pave   NaN      Reg   \n",
              "2             20       RL         80.0     9600   Pave   NaN      Reg   \n",
              "3             60       RL         68.0    11250   Pave   NaN      IR1   \n",
              "4             70       RL         60.0     9550   Pave   NaN      IR1   \n",
              "5             60       RL         84.0    14260   Pave   NaN      IR1   \n",
              "...          ...      ...          ...      ...    ...   ...      ...   \n",
              "1456          60       RL         62.0     7917   Pave   NaN      Reg   \n",
              "1457          20       RL         85.0    13175   Pave   NaN      Reg   \n",
              "1458          70       RL         66.0     9042   Pave   NaN      Reg   \n",
              "1459          20       RL         68.0     9717   Pave   NaN      Reg   \n",
              "1460          20       RL         75.0     9937   Pave   NaN      Reg   \n",
              "\n",
              "     LandContour Utilities LotConfig  ... PoolArea PoolQC  Fence MiscFeature  \\\n",
              "Id                                    ...                                      \n",
              "1            Lvl    AllPub    Inside  ...        0    NaN    NaN         NaN   \n",
              "2            Lvl    AllPub       FR2  ...        0    NaN    NaN         NaN   \n",
              "3            Lvl    AllPub    Inside  ...        0    NaN    NaN         NaN   \n",
              "4            Lvl    AllPub    Corner  ...        0    NaN    NaN         NaN   \n",
              "5            Lvl    AllPub       FR2  ...        0    NaN    NaN         NaN   \n",
              "...          ...       ...       ...  ...      ...    ...    ...         ...   \n",
              "1456         Lvl    AllPub    Inside  ...        0    NaN    NaN         NaN   \n",
              "1457         Lvl    AllPub    Inside  ...        0    NaN  MnPrv         NaN   \n",
              "1458         Lvl    AllPub    Inside  ...        0    NaN  GdPrv        Shed   \n",
              "1459         Lvl    AllPub    Inside  ...        0    NaN    NaN         NaN   \n",
              "1460         Lvl    AllPub    Inside  ...        0    NaN    NaN         NaN   \n",
              "\n",
              "     MiscVal MoSold  YrSold  SaleType  SaleCondition  SalePrice  \n",
              "Id                                                               \n",
              "1          0      2    2008        WD         Normal     208500  \n",
              "2          0      5    2007        WD         Normal     181500  \n",
              "3          0      9    2008        WD         Normal     223500  \n",
              "4          0      2    2006        WD        Abnorml     140000  \n",
              "5          0     12    2008        WD         Normal     250000  \n",
              "...      ...    ...     ...       ...            ...        ...  \n",
              "1456       0      8    2007        WD         Normal     175000  \n",
              "1457       0      2    2010        WD         Normal     210000  \n",
              "1458    2500      5    2010        WD         Normal     266500  \n",
              "1459       0      4    2010        WD         Normal     142125  \n",
              "1460       0      6    2008        WD         Normal     147500  \n",
              "\n",
              "[1460 rows x 80 columns]"
            ],
            "text/html": [
              "\n",
              "  <div id=\"df-fb3c1900-f66d-4ef8-a366-c8fb0ce46e47\">\n",
              "    <div class=\"colab-df-container\">\n",
              "      <div>\n",
              "<style scoped>\n",
              "    .dataframe tbody tr th:only-of-type {\n",
              "        vertical-align: middle;\n",
              "    }\n",
              "\n",
              "    .dataframe tbody tr th {\n",
              "        vertical-align: top;\n",
              "    }\n",
              "\n",
              "    .dataframe thead th {\n",
              "        text-align: right;\n",
              "    }\n",
              "</style>\n",
              "<table border=\"1\" class=\"dataframe\">\n",
              "  <thead>\n",
              "    <tr style=\"text-align: right;\">\n",
              "      <th></th>\n",
              "      <th>MSSubClass</th>\n",
              "      <th>MSZoning</th>\n",
              "      <th>LotFrontage</th>\n",
              "      <th>LotArea</th>\n",
              "      <th>Street</th>\n",
              "      <th>Alley</th>\n",
              "      <th>LotShape</th>\n",
              "      <th>LandContour</th>\n",
              "      <th>Utilities</th>\n",
              "      <th>LotConfig</th>\n",
              "      <th>...</th>\n",
              "      <th>PoolArea</th>\n",
              "      <th>PoolQC</th>\n",
              "      <th>Fence</th>\n",
              "      <th>MiscFeature</th>\n",
              "      <th>MiscVal</th>\n",
              "      <th>MoSold</th>\n",
              "      <th>YrSold</th>\n",
              "      <th>SaleType</th>\n",
              "      <th>SaleCondition</th>\n",
              "      <th>SalePrice</th>\n",
              "    </tr>\n",
              "    <tr>\n",
              "      <th>Id</th>\n",
              "      <th></th>\n",
              "      <th></th>\n",
              "      <th></th>\n",
              "      <th></th>\n",
              "      <th></th>\n",
              "      <th></th>\n",
              "      <th></th>\n",
              "      <th></th>\n",
              "      <th></th>\n",
              "      <th></th>\n",
              "      <th></th>\n",
              "      <th></th>\n",
              "      <th></th>\n",
              "      <th></th>\n",
              "      <th></th>\n",
              "      <th></th>\n",
              "      <th></th>\n",
              "      <th></th>\n",
              "      <th></th>\n",
              "      <th></th>\n",
              "      <th></th>\n",
              "    </tr>\n",
              "  </thead>\n",
              "  <tbody>\n",
              "    <tr>\n",
              "      <th>1</th>\n",
              "      <td>60</td>\n",
              "      <td>RL</td>\n",
              "      <td>65.0</td>\n",
              "      <td>8450</td>\n",
              "      <td>Pave</td>\n",
              "      <td>NaN</td>\n",
              "      <td>Reg</td>\n",
              "      <td>Lvl</td>\n",
              "      <td>AllPub</td>\n",
              "      <td>Inside</td>\n",
              "      <td>...</td>\n",
              "      <td>0</td>\n",
              "      <td>NaN</td>\n",
              "      <td>NaN</td>\n",
              "      <td>NaN</td>\n",
              "      <td>0</td>\n",
              "      <td>2</td>\n",
              "      <td>2008</td>\n",
              "      <td>WD</td>\n",
              "      <td>Normal</td>\n",
              "      <td>208500</td>\n",
              "    </tr>\n",
              "    <tr>\n",
              "      <th>2</th>\n",
              "      <td>20</td>\n",
              "      <td>RL</td>\n",
              "      <td>80.0</td>\n",
              "      <td>9600</td>\n",
              "      <td>Pave</td>\n",
              "      <td>NaN</td>\n",
              "      <td>Reg</td>\n",
              "      <td>Lvl</td>\n",
              "      <td>AllPub</td>\n",
              "      <td>FR2</td>\n",
              "      <td>...</td>\n",
              "      <td>0</td>\n",
              "      <td>NaN</td>\n",
              "      <td>NaN</td>\n",
              "      <td>NaN</td>\n",
              "      <td>0</td>\n",
              "      <td>5</td>\n",
              "      <td>2007</td>\n",
              "      <td>WD</td>\n",
              "      <td>Normal</td>\n",
              "      <td>181500</td>\n",
              "    </tr>\n",
              "    <tr>\n",
              "      <th>3</th>\n",
              "      <td>60</td>\n",
              "      <td>RL</td>\n",
              "      <td>68.0</td>\n",
              "      <td>11250</td>\n",
              "      <td>Pave</td>\n",
              "      <td>NaN</td>\n",
              "      <td>IR1</td>\n",
              "      <td>Lvl</td>\n",
              "      <td>AllPub</td>\n",
              "      <td>Inside</td>\n",
              "      <td>...</td>\n",
              "      <td>0</td>\n",
              "      <td>NaN</td>\n",
              "      <td>NaN</td>\n",
              "      <td>NaN</td>\n",
              "      <td>0</td>\n",
              "      <td>9</td>\n",
              "      <td>2008</td>\n",
              "      <td>WD</td>\n",
              "      <td>Normal</td>\n",
              "      <td>223500</td>\n",
              "    </tr>\n",
              "    <tr>\n",
              "      <th>4</th>\n",
              "      <td>70</td>\n",
              "      <td>RL</td>\n",
              "      <td>60.0</td>\n",
              "      <td>9550</td>\n",
              "      <td>Pave</td>\n",
              "      <td>NaN</td>\n",
              "      <td>IR1</td>\n",
              "      <td>Lvl</td>\n",
              "      <td>AllPub</td>\n",
              "      <td>Corner</td>\n",
              "      <td>...</td>\n",
              "      <td>0</td>\n",
              "      <td>NaN</td>\n",
              "      <td>NaN</td>\n",
              "      <td>NaN</td>\n",
              "      <td>0</td>\n",
              "      <td>2</td>\n",
              "      <td>2006</td>\n",
              "      <td>WD</td>\n",
              "      <td>Abnorml</td>\n",
              "      <td>140000</td>\n",
              "    </tr>\n",
              "    <tr>\n",
              "      <th>5</th>\n",
              "      <td>60</td>\n",
              "      <td>RL</td>\n",
              "      <td>84.0</td>\n",
              "      <td>14260</td>\n",
              "      <td>Pave</td>\n",
              "      <td>NaN</td>\n",
              "      <td>IR1</td>\n",
              "      <td>Lvl</td>\n",
              "      <td>AllPub</td>\n",
              "      <td>FR2</td>\n",
              "      <td>...</td>\n",
              "      <td>0</td>\n",
              "      <td>NaN</td>\n",
              "      <td>NaN</td>\n",
              "      <td>NaN</td>\n",
              "      <td>0</td>\n",
              "      <td>12</td>\n",
              "      <td>2008</td>\n",
              "      <td>WD</td>\n",
              "      <td>Normal</td>\n",
              "      <td>250000</td>\n",
              "    </tr>\n",
              "    <tr>\n",
              "      <th>...</th>\n",
              "      <td>...</td>\n",
              "      <td>...</td>\n",
              "      <td>...</td>\n",
              "      <td>...</td>\n",
              "      <td>...</td>\n",
              "      <td>...</td>\n",
              "      <td>...</td>\n",
              "      <td>...</td>\n",
              "      <td>...</td>\n",
              "      <td>...</td>\n",
              "      <td>...</td>\n",
              "      <td>...</td>\n",
              "      <td>...</td>\n",
              "      <td>...</td>\n",
              "      <td>...</td>\n",
              "      <td>...</td>\n",
              "      <td>...</td>\n",
              "      <td>...</td>\n",
              "      <td>...</td>\n",
              "      <td>...</td>\n",
              "      <td>...</td>\n",
              "    </tr>\n",
              "    <tr>\n",
              "      <th>1456</th>\n",
              "      <td>60</td>\n",
              "      <td>RL</td>\n",
              "      <td>62.0</td>\n",
              "      <td>7917</td>\n",
              "      <td>Pave</td>\n",
              "      <td>NaN</td>\n",
              "      <td>Reg</td>\n",
              "      <td>Lvl</td>\n",
              "      <td>AllPub</td>\n",
              "      <td>Inside</td>\n",
              "      <td>...</td>\n",
              "      <td>0</td>\n",
              "      <td>NaN</td>\n",
              "      <td>NaN</td>\n",
              "      <td>NaN</td>\n",
              "      <td>0</td>\n",
              "      <td>8</td>\n",
              "      <td>2007</td>\n",
              "      <td>WD</td>\n",
              "      <td>Normal</td>\n",
              "      <td>175000</td>\n",
              "    </tr>\n",
              "    <tr>\n",
              "      <th>1457</th>\n",
              "      <td>20</td>\n",
              "      <td>RL</td>\n",
              "      <td>85.0</td>\n",
              "      <td>13175</td>\n",
              "      <td>Pave</td>\n",
              "      <td>NaN</td>\n",
              "      <td>Reg</td>\n",
              "      <td>Lvl</td>\n",
              "      <td>AllPub</td>\n",
              "      <td>Inside</td>\n",
              "      <td>...</td>\n",
              "      <td>0</td>\n",
              "      <td>NaN</td>\n",
              "      <td>MnPrv</td>\n",
              "      <td>NaN</td>\n",
              "      <td>0</td>\n",
              "      <td>2</td>\n",
              "      <td>2010</td>\n",
              "      <td>WD</td>\n",
              "      <td>Normal</td>\n",
              "      <td>210000</td>\n",
              "    </tr>\n",
              "    <tr>\n",
              "      <th>1458</th>\n",
              "      <td>70</td>\n",
              "      <td>RL</td>\n",
              "      <td>66.0</td>\n",
              "      <td>9042</td>\n",
              "      <td>Pave</td>\n",
              "      <td>NaN</td>\n",
              "      <td>Reg</td>\n",
              "      <td>Lvl</td>\n",
              "      <td>AllPub</td>\n",
              "      <td>Inside</td>\n",
              "      <td>...</td>\n",
              "      <td>0</td>\n",
              "      <td>NaN</td>\n",
              "      <td>GdPrv</td>\n",
              "      <td>Shed</td>\n",
              "      <td>2500</td>\n",
              "      <td>5</td>\n",
              "      <td>2010</td>\n",
              "      <td>WD</td>\n",
              "      <td>Normal</td>\n",
              "      <td>266500</td>\n",
              "    </tr>\n",
              "    <tr>\n",
              "      <th>1459</th>\n",
              "      <td>20</td>\n",
              "      <td>RL</td>\n",
              "      <td>68.0</td>\n",
              "      <td>9717</td>\n",
              "      <td>Pave</td>\n",
              "      <td>NaN</td>\n",
              "      <td>Reg</td>\n",
              "      <td>Lvl</td>\n",
              "      <td>AllPub</td>\n",
              "      <td>Inside</td>\n",
              "      <td>...</td>\n",
              "      <td>0</td>\n",
              "      <td>NaN</td>\n",
              "      <td>NaN</td>\n",
              "      <td>NaN</td>\n",
              "      <td>0</td>\n",
              "      <td>4</td>\n",
              "      <td>2010</td>\n",
              "      <td>WD</td>\n",
              "      <td>Normal</td>\n",
              "      <td>142125</td>\n",
              "    </tr>\n",
              "    <tr>\n",
              "      <th>1460</th>\n",
              "      <td>20</td>\n",
              "      <td>RL</td>\n",
              "      <td>75.0</td>\n",
              "      <td>9937</td>\n",
              "      <td>Pave</td>\n",
              "      <td>NaN</td>\n",
              "      <td>Reg</td>\n",
              "      <td>Lvl</td>\n",
              "      <td>AllPub</td>\n",
              "      <td>Inside</td>\n",
              "      <td>...</td>\n",
              "      <td>0</td>\n",
              "      <td>NaN</td>\n",
              "      <td>NaN</td>\n",
              "      <td>NaN</td>\n",
              "      <td>0</td>\n",
              "      <td>6</td>\n",
              "      <td>2008</td>\n",
              "      <td>WD</td>\n",
              "      <td>Normal</td>\n",
              "      <td>147500</td>\n",
              "    </tr>\n",
              "  </tbody>\n",
              "</table>\n",
              "<p>1460 rows × 80 columns</p>\n",
              "</div>\n",
              "      <button class=\"colab-df-convert\" onclick=\"convertToInteractive('df-fb3c1900-f66d-4ef8-a366-c8fb0ce46e47')\"\n",
              "              title=\"Convert this dataframe to an interactive table.\"\n",
              "              style=\"display:none;\">\n",
              "        \n",
              "  <svg xmlns=\"http://www.w3.org/2000/svg\" height=\"24px\"viewBox=\"0 0 24 24\"\n",
              "       width=\"24px\">\n",
              "    <path d=\"M0 0h24v24H0V0z\" fill=\"none\"/>\n",
              "    <path d=\"M18.56 5.44l.94 2.06.94-2.06 2.06-.94-2.06-.94-.94-2.06-.94 2.06-2.06.94zm-11 1L8.5 8.5l.94-2.06 2.06-.94-2.06-.94L8.5 2.5l-.94 2.06-2.06.94zm10 10l.94 2.06.94-2.06 2.06-.94-2.06-.94-.94-2.06-.94 2.06-2.06.94z\"/><path d=\"M17.41 7.96l-1.37-1.37c-.4-.4-.92-.59-1.43-.59-.52 0-1.04.2-1.43.59L10.3 9.45l-7.72 7.72c-.78.78-.78 2.05 0 2.83L4 21.41c.39.39.9.59 1.41.59.51 0 1.02-.2 1.41-.59l7.78-7.78 2.81-2.81c.8-.78.8-2.07 0-2.86zM5.41 20L4 18.59l7.72-7.72 1.47 1.35L5.41 20z\"/>\n",
              "  </svg>\n",
              "      </button>\n",
              "      \n",
              "  <style>\n",
              "    .colab-df-container {\n",
              "      display:flex;\n",
              "      flex-wrap:wrap;\n",
              "      gap: 12px;\n",
              "    }\n",
              "\n",
              "    .colab-df-convert {\n",
              "      background-color: #E8F0FE;\n",
              "      border: none;\n",
              "      border-radius: 50%;\n",
              "      cursor: pointer;\n",
              "      display: none;\n",
              "      fill: #1967D2;\n",
              "      height: 32px;\n",
              "      padding: 0 0 0 0;\n",
              "      width: 32px;\n",
              "    }\n",
              "\n",
              "    .colab-df-convert:hover {\n",
              "      background-color: #E2EBFA;\n",
              "      box-shadow: 0px 1px 2px rgba(60, 64, 67, 0.3), 0px 1px 3px 1px rgba(60, 64, 67, 0.15);\n",
              "      fill: #174EA6;\n",
              "    }\n",
              "\n",
              "    [theme=dark] .colab-df-convert {\n",
              "      background-color: #3B4455;\n",
              "      fill: #D2E3FC;\n",
              "    }\n",
              "\n",
              "    [theme=dark] .colab-df-convert:hover {\n",
              "      background-color: #434B5C;\n",
              "      box-shadow: 0px 1px 3px 1px rgba(0, 0, 0, 0.15);\n",
              "      filter: drop-shadow(0px 1px 2px rgba(0, 0, 0, 0.3));\n",
              "      fill: #FFFFFF;\n",
              "    }\n",
              "  </style>\n",
              "\n",
              "      <script>\n",
              "        const buttonEl =\n",
              "          document.querySelector('#df-fb3c1900-f66d-4ef8-a366-c8fb0ce46e47 button.colab-df-convert');\n",
              "        buttonEl.style.display =\n",
              "          google.colab.kernel.accessAllowed ? 'block' : 'none';\n",
              "\n",
              "        async function convertToInteractive(key) {\n",
              "          const element = document.querySelector('#df-fb3c1900-f66d-4ef8-a366-c8fb0ce46e47');\n",
              "          const dataTable =\n",
              "            await google.colab.kernel.invokeFunction('convertToInteractive',\n",
              "                                                     [key], {});\n",
              "          if (!dataTable) return;\n",
              "\n",
              "          const docLinkHtml = 'Like what you see? Visit the ' +\n",
              "            '<a target=\"_blank\" href=https://colab.research.google.com/notebooks/data_table.ipynb>data table notebook</a>'\n",
              "            + ' to learn more about interactive tables.';\n",
              "          element.innerHTML = '';\n",
              "          dataTable['output_type'] = 'display_data';\n",
              "          await google.colab.output.renderOutput(dataTable, element);\n",
              "          const docLink = document.createElement('div');\n",
              "          docLink.innerHTML = docLinkHtml;\n",
              "          element.appendChild(docLink);\n",
              "        }\n",
              "      </script>\n",
              "    </div>\n",
              "  </div>\n",
              "  "
            ]
          },
          "metadata": {},
          "execution_count": 10
        }
      ],
      "source": [
        "# Run this cell without changes\n",
        "df"
      ]
    },
    {
      "cell_type": "code",
      "execution_count": 11,
      "metadata": {
        "id": "ziZ_LCsafgjr",
        "outputId": "68be155a-a14a-4afa-bd61-c7c0c3bf5d92",
        "colab": {
          "base_uri": "https://localhost:8080/"
        }
      },
      "outputs": [
        {
          "output_type": "stream",
          "name": "stdout",
          "text": [
            "<class 'pandas.core.frame.DataFrame'>\n",
            "Int64Index: 1460 entries, 1 to 1460\n",
            "Data columns (total 80 columns):\n",
            " #   Column         Non-Null Count  Dtype  \n",
            "---  ------         --------------  -----  \n",
            " 0   MSSubClass     1460 non-null   int64  \n",
            " 1   MSZoning       1460 non-null   object \n",
            " 2   LotFrontage    1201 non-null   float64\n",
            " 3   LotArea        1460 non-null   int64  \n",
            " 4   Street         1460 non-null   object \n",
            " 5   Alley          91 non-null     object \n",
            " 6   LotShape       1460 non-null   object \n",
            " 7   LandContour    1460 non-null   object \n",
            " 8   Utilities      1460 non-null   object \n",
            " 9   LotConfig      1460 non-null   object \n",
            " 10  LandSlope      1460 non-null   object \n",
            " 11  Neighborhood   1460 non-null   object \n",
            " 12  Condition1     1460 non-null   object \n",
            " 13  Condition2     1460 non-null   object \n",
            " 14  BldgType       1460 non-null   object \n",
            " 15  HouseStyle     1460 non-null   object \n",
            " 16  OverallQual    1460 non-null   int64  \n",
            " 17  OverallCond    1460 non-null   int64  \n",
            " 18  YearBuilt      1460 non-null   int64  \n",
            " 19  YearRemodAdd   1460 non-null   int64  \n",
            " 20  RoofStyle      1460 non-null   object \n",
            " 21  RoofMatl       1460 non-null   object \n",
            " 22  Exterior1st    1460 non-null   object \n",
            " 23  Exterior2nd    1460 non-null   object \n",
            " 24  MasVnrType     1452 non-null   object \n",
            " 25  MasVnrArea     1452 non-null   float64\n",
            " 26  ExterQual      1460 non-null   object \n",
            " 27  ExterCond      1460 non-null   object \n",
            " 28  Foundation     1460 non-null   object \n",
            " 29  BsmtQual       1423 non-null   object \n",
            " 30  BsmtCond       1423 non-null   object \n",
            " 31  BsmtExposure   1422 non-null   object \n",
            " 32  BsmtFinType1   1423 non-null   object \n",
            " 33  BsmtFinSF1     1460 non-null   int64  \n",
            " 34  BsmtFinType2   1422 non-null   object \n",
            " 35  BsmtFinSF2     1460 non-null   int64  \n",
            " 36  BsmtUnfSF      1460 non-null   int64  \n",
            " 37  TotalBsmtSF    1460 non-null   int64  \n",
            " 38  Heating        1460 non-null   object \n",
            " 39  HeatingQC      1460 non-null   object \n",
            " 40  CentralAir     1460 non-null   object \n",
            " 41  Electrical     1459 non-null   object \n",
            " 42  1stFlrSF       1460 non-null   int64  \n",
            " 43  2ndFlrSF       1460 non-null   int64  \n",
            " 44  LowQualFinSF   1460 non-null   int64  \n",
            " 45  GrLivArea      1460 non-null   int64  \n",
            " 46  BsmtFullBath   1460 non-null   int64  \n",
            " 47  BsmtHalfBath   1460 non-null   int64  \n",
            " 48  FullBath       1460 non-null   int64  \n",
            " 49  HalfBath       1460 non-null   int64  \n",
            " 50  BedroomAbvGr   1460 non-null   int64  \n",
            " 51  KitchenAbvGr   1460 non-null   int64  \n",
            " 52  KitchenQual    1460 non-null   object \n",
            " 53  TotRmsAbvGrd   1460 non-null   int64  \n",
            " 54  Functional     1460 non-null   object \n",
            " 55  Fireplaces     1460 non-null   int64  \n",
            " 56  FireplaceQu    770 non-null    object \n",
            " 57  GarageType     1379 non-null   object \n",
            " 58  GarageYrBlt    1379 non-null   float64\n",
            " 59  GarageFinish   1379 non-null   object \n",
            " 60  GarageCars     1460 non-null   int64  \n",
            " 61  GarageArea     1460 non-null   int64  \n",
            " 62  GarageQual     1379 non-null   object \n",
            " 63  GarageCond     1379 non-null   object \n",
            " 64  PavedDrive     1460 non-null   object \n",
            " 65  WoodDeckSF     1460 non-null   int64  \n",
            " 66  OpenPorchSF    1460 non-null   int64  \n",
            " 67  EnclosedPorch  1460 non-null   int64  \n",
            " 68  3SsnPorch      1460 non-null   int64  \n",
            " 69  ScreenPorch    1460 non-null   int64  \n",
            " 70  PoolArea       1460 non-null   int64  \n",
            " 71  PoolQC         7 non-null      object \n",
            " 72  Fence          281 non-null    object \n",
            " 73  MiscFeature    54 non-null     object \n",
            " 74  MiscVal        1460 non-null   int64  \n",
            " 75  MoSold         1460 non-null   int64  \n",
            " 76  YrSold         1460 non-null   int64  \n",
            " 77  SaleType       1460 non-null   object \n",
            " 78  SaleCondition  1460 non-null   object \n",
            " 79  SalePrice      1460 non-null   int64  \n",
            "dtypes: float64(3), int64(34), object(43)\n",
            "memory usage: 923.9+ KB\n"
          ]
        }
      ],
      "source": [
        "# Run this cell without changes\n",
        "df.info()"
      ]
    },
    {
      "cell_type": "markdown",
      "metadata": {
        "id": "O1_gmee0fgjr"
      },
      "source": [
        "## 2. Explore Data Distributions\n",
        "\n",
        "Write code to produce histograms showing the distributions of `SalePrice`, `TotRmsAbvGrd`, and `OverallCond`.\n",
        "\n",
        "Each histogram should have appropriate title and axes labels, as well as a black vertical line indicating the mean of the dataset. See the documentation for [plotting histograms](https://matplotlib.org/stable/api/_as_gen/matplotlib.axes.Axes.hist.html), [customizing axes](https://matplotlib.org/stable/api/axes_api.html#axis-labels-title-and-legend), and [plotting vertical lines](https://matplotlib.org/stable/api/_as_gen/matplotlib.axes.Axes.axvline.html#matplotlib.axes.Axes.axvline) as needed."
      ]
    },
    {
      "cell_type": "markdown",
      "metadata": {
        "id": "09VshMsDfgjr"
      },
      "source": [
        "### Sale Price\n",
        "\n",
        "In the cell below, produce a histogram for `SalePrice`."
      ]
    },
    {
      "cell_type": "code",
      "execution_count": 14,
      "metadata": {
        "id": "Ihi3xoHCfgjr",
        "outputId": "df2f5b97-5425-4665-b106-bf11c8afdd30",
        "colab": {
          "base_uri": "https://localhost:8080/",
          "height": 265
        }
      },
      "outputs": [
        {
          "output_type": "display_data",
          "data": {
            "text/plain": [
              "<Figure size 432x288 with 1 Axes>"
            ],
            "image/png": "[encoded data removed]"
          },
          "metadata": {
            "needs_background": "light"
          }
        }
      ],
      "source": [
        "# Your code here\n",
        "plt.hist(df['SalePrice'], bins=20);"
      ]
    },
    {
      "cell_type": "markdown",
      "metadata": {
        "id": "yu7x25hRfgjr"
      },
      "source": [
        "Now, print out the mean, median, and standard deviation:"
      ]
    },
    {
      "cell_type": "code",
      "execution_count": 31,
      "metadata": {
        "id": "zaz6j6dyfgjr",
        "outputId": "df31ba22-e1d5-4310-b087-efe6061a19a4",
        "colab": {
          "base_uri": "https://localhost:8080/"
        }
      },
      "outputs": [
        {
          "output_type": "stream",
          "name": "stdout",
          "text": [
            "180921.19589041095\n",
            "163000.0\n",
            "79442.50288288662\n"
          ]
        }
      ],
      "source": [
        "# Your code here\n",
        "\n",
        "def mms(df):\n",
        "  print(df.mean()) \n",
        "  print(df.median()) \n",
        "  print(df.std())\n",
        "  \n",
        "mms(df['SalePrice'])"
      ]
    },
    {
      "cell_type": "markdown",
      "metadata": {
        "id": "OzAFIkzDfgjr"
      },
      "source": [
        "In the cell below, interpret the above information."
      ]
    },
    {
      "cell_type": "code",
      "execution_count": 17,
      "metadata": {
        "id": "f-lQXLZMfgjs",
        "outputId": "6a1d197e-86f0-48ed-e53d-60463dd342be",
        "colab": {
          "base_uri": "https://localhost:8080/",
          "height": 36
        }
      },
      "outputs": [
        {
          "output_type": "execute_result",
          "data": {
            "text/plain": [
              "\"\\nThe mean is higher than the median which means there's some positive skew, but most home prices are grouped within the 100-300k price range.\\n\""
            ],
            "application/vnd.google.colaboratory.intrinsic+json": {
              "type": "string"
            }
          },
          "metadata": {},
          "execution_count": 17
        }
      ],
      "source": [
        "# Replace None with appropriate text\n",
        "\"\"\"\n",
        "The mean is higher than the median which means there's some positive skew, but most home prices are grouped within the 100-300k price range.\n",
        "\"\"\""
      ]
    },
    {
      "cell_type": "markdown",
      "metadata": {
        "id": "eQr1WPOhfgjs"
      },
      "source": [
        "### Total Rooms Above Grade\n",
        "\n",
        "In the cell below, produce a histogram for `TotRmsAbvGrd`."
      ]
    },
    {
      "cell_type": "code",
      "execution_count": 24,
      "metadata": {
        "id": "76T8hOIUfgjs",
        "outputId": "330e8b49-8970-4750-b741-d6f98e103f9f",
        "colab": {
          "base_uri": "https://localhost:8080/",
          "height": 295
        }
      },
      "outputs": [
        {
          "output_type": "display_data",
          "data": {
            "text/plain": [
              "<Figure size 432x288 with 1 Axes>"
            ],
            "image/png": "[encoded data removed]"
          },
          "metadata": {
            "needs_background": "light"
          }
        }
      ],
      "source": [
        "# Your code here\n",
        "plt.hist(df['TotRmsAbvGrd'])\n",
        "plt.xlabel('Rooms Above Ground')\n",
        "plt.ylabel('Frequency')\n",
        "plt.title('Rooms Above Ground Histogram');"
      ]
    },
    {
      "cell_type": "markdown",
      "metadata": {
        "id": "1b-_6JNQfgjs"
      },
      "source": [
        "Now, print out the mean, median, and standard deviation:"
      ]
    },
    {
      "cell_type": "code",
      "execution_count": 33,
      "metadata": {
        "id": "fql5zv8Vfgjs",
        "outputId": "a8aeb2c3-4909-49b4-a567-4ca5f41f94de",
        "colab": {
          "base_uri": "https://localhost:8080/"
        }
      },
      "outputs": [
        {
          "output_type": "stream",
          "name": "stdout",
          "text": [
            "6.517808219178082\n",
            "6.0\n",
            "1.6253932905840505\n"
          ]
        }
      ],
      "source": [
        "# Your code here\n",
        "\n",
        "mms(df['TotRmsAbvGrd'])"
      ]
    },
    {
      "cell_type": "markdown",
      "metadata": {
        "id": "cpVRSApVfgjs"
      },
      "source": [
        "In the cell below, interpret the above information."
      ]
    },
    {
      "cell_type": "code",
      "execution_count": 34,
      "metadata": {
        "id": "lgmdCzjufgjs",
        "outputId": "216f1706-8e25-428b-ae94-ce30c108f04a",
        "colab": {
          "base_uri": "https://localhost:8080/",
          "height": 36
        }
      },
      "outputs": [
        {
          "output_type": "execute_result",
          "data": {
            "text/plain": [
              "\"\\nMost homes are clustered between 4-7 rooms. Outliers don't seem to drag the data set too much.\\n\""
            ],
            "application/vnd.google.colaboratory.intrinsic+json": {
              "type": "string"
            }
          },
          "metadata": {},
          "execution_count": 34
        }
      ],
      "source": [
        "# Replace None with appropriate text\n",
        "\"\"\"\n",
        "Most homes are clustered between 4-7 rooms. Outliers don't seem to drag the data set too much.\n",
        "\"\"\""
      ]
    },
    {
      "cell_type": "markdown",
      "metadata": {
        "id": "9ksDXABsfgjs"
      },
      "source": [
        "### Overall Condition\n",
        "\n",
        "In the cell below, produce a histogram for `OverallCond`."
      ]
    },
    {
      "cell_type": "code",
      "execution_count": 40,
      "metadata": {
        "id": "jbQvLqsjfgjs",
        "outputId": "896e9e30-dcda-4e15-d4a6-8f2e92466bd0",
        "colab": {
          "base_uri": "https://localhost:8080/",
          "height": 295
        }
      },
      "outputs": [
        {
          "output_type": "display_data",
          "data": {
            "text/plain": [
              "<Figure size 432x288 with 1 Axes>"
            ],
            "image/png": "[encoded data removed]"
          },
          "metadata": {
            "needs_background": "light"
          }
        }
      ],
      "source": [
        "# Your code here\n",
        "\n",
        "plt.hist(df['OverallCond'])\n",
        "plt.xlabel('Overall Condition')\n",
        "plt.ylabel('Distribution')\n",
        "plt.title('Overall Condition Histogram');"
      ]
    },
    {
      "cell_type": "markdown",
      "metadata": {
        "id": "nsx9UMFefgjs"
      },
      "source": [
        "Now, print out the mean, median, and standard deviation:"
      ]
    },
    {
      "cell_type": "code",
      "execution_count": 41,
      "metadata": {
        "id": "Zej_cPRlfgjs",
        "outputId": "4a882a6f-9a04-4f3f-9f68-eb59deb6005b",
        "colab": {
          "base_uri": "https://localhost:8080/"
        }
      },
      "outputs": [
        {
          "output_type": "stream",
          "name": "stdout",
          "text": [
            "5.575342465753424\n",
            "5.0\n",
            "1.1127993367127316\n"
          ]
        }
      ],
      "source": [
        "# Your code here\n",
        "\n",
        "mms(df['OverallCond'])"
      ]
    },
    {
      "cell_type": "markdown",
      "metadata": {
        "id": "obFo6OwVfgjs"
      },
      "source": [
        "In the cell below, interpret the above information."
      ]
    },
    {
      "cell_type": "code",
      "execution_count": 42,
      "metadata": {
        "id": "Xq5w3NQwfgjs",
        "outputId": "ff91830a-1011-40e7-de12-24a627a22eda",
        "colab": {
          "base_uri": "https://localhost:8080/",
          "height": 36
        }
      },
      "outputs": [
        {
          "output_type": "execute_result",
          "data": {
            "text/plain": [
              "'\\nThere is very low standard deviation. Most homes have an overall condition of 5. \\n'"
            ],
            "application/vnd.google.colaboratory.intrinsic+json": {
              "type": "string"
            }
          },
          "metadata": {},
          "execution_count": 42
        }
      ],
      "source": [
        "# Replace None with appropriate text\n",
        "\"\"\"\n",
        "There is very low standard deviation. Most homes have an overall condition of 5. \n",
        "\"\"\""
      ]
    },
    {
      "cell_type": "markdown",
      "metadata": {
        "id": "vucNCN5Lfgjs"
      },
      "source": [
        "## 3. Explore Differences between Subsets\n",
        "\n",
        "As you might have noted in the previous step, the overall condition of the house seems like we should treat it as more of a categorical variable, rather than a numeric variable.\n",
        "\n",
        "One useful way to explore a categorical variable is to create subsets of the full dataset based on that categorical variable, then plot their distributions based on some other variable. Since this dataset is traditionally used for predicting the sale price of a house, let's use `SalePrice` as that other variable.\n",
        "\n",
        "In the cell below, create three variables, each of which represents a record-wise subset of `df` (meaning, it has the same columns as `df`, but only some of the rows).\n",
        "\n",
        "* `below_average_condition`: home sales where the overall condition was less than 5\n",
        "* `average_condition`: home sales where the overall condition was exactly 5\n",
        "* `above_average_condition`: home sales where the overall condition was greater than 5"
      ]
    },
    {
      "cell_type": "code",
      "execution_count": 43,
      "metadata": {
        "id": "EemD0xeOfgjt"
      },
      "outputs": [],
      "source": [
        "# Replace None with appropriate code\n",
        "below_average_condition = df[df['OverallCond'] <5]\n",
        "average_condition = df[df['OverallCond'] == 5]\n",
        "above_average_condition = df[df['OverallCond'] >5 ]"
      ]
    },
    {
      "cell_type": "markdown",
      "metadata": {
        "id": "7mrRTDZ5fgjt"
      },
      "source": [
        "The following code checks that you created the subsets correctly:"
      ]
    },
    {
      "cell_type": "code",
      "execution_count": 44,
      "metadata": {
        "id": "E1Q_KtjCfgjt"
      },
      "outputs": [],
      "source": [
        "# Run this cell without changes\n",
        "\n",
        "# Check that all of them still have 80 columns\n",
        "assert below_average_condition.shape[1] == 80\n",
        "assert average_condition.shape[1] == 80\n",
        "assert above_average_condition.shape[1] == 80\n",
        "\n",
        "# Check the numbers of rows of each subset\n",
        "assert below_average_condition.shape[0] == 88\n",
        "assert average_condition.shape[0] == 821\n",
        "assert above_average_condition.shape[0] == 551"
      ]
    },
    {
      "cell_type": "markdown",
      "metadata": {
        "id": "aWkjSg3Nfgjt"
      },
      "source": [
        "The following code will produce a plot of the distributions of sale price for each of these subsets:"
      ]
    },
    {
      "cell_type": "code",
      "execution_count": 45,
      "metadata": {
        "id": "lqRpkE9ffgjt",
        "outputId": "178df3bd-13b4-4ce3-962c-f6f25d059e25",
        "colab": {
          "base_uri": "https://localhost:8080/",
          "height": 350
        }
      },
      "outputs": [
        {
          "output_type": "display_data",
          "data": {
            "text/plain": [
              "<Figure size 1080x360 with 1 Axes>"
            ],
            "image/png": "[encoded data removed]"
          },
          "metadata": {
            "needs_background": "light"
          }
        }
      ],
      "source": [
        "# Run this cell without changes\n",
        "\n",
        "# Set up plot\n",
        "fig, ax = plt.subplots(figsize=(15,5))\n",
        "\n",
        "# Create custom bins so all are on the same scale\n",
        "bins = range(df[\"SalePrice\"].min(), df[\"SalePrice\"].max(), int(df[\"SalePrice\"].median()) // 20)\n",
        "\n",
        "# Plot three histograms, with reduced opacity (alpha) so we\n",
        "# can see them overlapping\n",
        "ax.hist(\n",
        "    x=above_average_condition[\"SalePrice\"],\n",
        "    label=\"above average condition\",\n",
        "    bins=bins,\n",
        "    color=\"cyan\",\n",
        "    alpha=0.5\n",
        ")\n",
        "ax.hist(\n",
        "    x=average_condition[\"SalePrice\"],\n",
        "    label=\"average condition\",\n",
        "    bins=bins,\n",
        "    color=\"gray\",\n",
        "    alpha=0.3\n",
        ")\n",
        "ax.hist(\n",
        "    x=below_average_condition[\"SalePrice\"],\n",
        "    label=\"below average condition\",\n",
        "    bins=bins,\n",
        "    color=\"yellow\",\n",
        "    alpha=0.5\n",
        ")\n",
        "\n",
        "# Customize labels\n",
        "ax.set_title(\"Distributions of Sale Price Grouped by Condition\")\n",
        "ax.set_xlabel(\"Sale Price\")\n",
        "ax.set_ylabel(\"Number of Houses\")\n",
        "ax.legend();"
      ]
    },
    {
      "cell_type": "markdown",
      "metadata": {
        "id": "Tt54uGvAfgjt"
      },
      "source": [
        "Interpret the plot above. What does it tell us about these overall condition categories, and the relationship between overall condition and sale price? Is there anything surprising?"
      ]
    },
    {
      "cell_type": "code",
      "execution_count": 46,
      "metadata": {
        "id": "ay8X0e4Ofgjt",
        "outputId": "125ad5ab-b461-469e-a2da-64b96c9dbfd1",
        "colab": {
          "base_uri": "https://localhost:8080/",
          "height": 53
        }
      },
      "outputs": [
        {
          "output_type": "execute_result",
          "data": {
            "text/plain": [
              "\"\\nI would've thought that the above average condition would have the highest average sale price. But the average condition homes seems to have higher median and mean for sale price.\\n\\n\""
            ],
            "application/vnd.google.colaboratory.intrinsic+json": {
              "type": "string"
            }
          },
          "metadata": {},
          "execution_count": 46
        }
      ],
      "source": [
        "# Replace None with appropriate text\n",
        "\"\"\"\n",
        "I would've thought that the above average condition would have the highest average sale price. But the average condition homes seems to have higher median and mean for sale price.\n",
        "\n",
        "\"\"\""
      ]
    },
    {
      "cell_type": "markdown",
      "metadata": {
        "id": "hlGIIOVCfgjt"
      },
      "source": [
        "## 4. Explore Correlations\n",
        "\n",
        "To understand more about what features of these homes lead to higher sale prices, let's look at some correlations. We'll return to using the full `df`, rather than the subsets.\n",
        "\n",
        "In the cell below, print out both the name of the column and the Pearson correlation for the column that is ***most positively correlated*** with `SalePrice` (other than `SalePrice`, which is perfectly correlated with itself).\n",
        "\n",
        "We'll only check the correlations with some kind of numeric data type.\n",
        "\n",
        "You can import additional libraries, although it is possible to do this just using pandas."
      ]
    },
    {
      "cell_type": "code",
      "execution_count": 54,
      "metadata": {
        "id": "exRY7A-Lfgjt",
        "outputId": "361d538b-b0f2-4a33-a73e-50e9f0183b7f",
        "colab": {
          "base_uri": "https://localhost:8080/"
        }
      },
      "outputs": [
        {
          "output_type": "execute_result",
          "data": {
            "text/plain": [
              "0.7909816005838053"
            ]
          },
          "metadata": {},
          "execution_count": 54
        }
      ],
      "source": [
        "df.corr(method='pearson')['SalePrice'].drop('SalePrice').max()"
      ]
    },
    {
      "cell_type": "code",
      "source": [
        "df.corr(method='pearson')['SalePrice'].drop('SalePrice')"
      ],
      "metadata": {
        "id": "YYQuh3OclDSb",
        "outputId": "66fde0d8-f864-4b54-89a4-1e703496e70c",
        "colab": {
          "base_uri": "https://localhost:8080/"
        }
      },
      "execution_count": 55,
      "outputs": [
        {
          "output_type": "execute_result",
          "data": {
            "text/plain": [
              "MSSubClass      -0.084284\n",
              "LotFrontage      0.351799\n",
              "LotArea          0.263843\n",
              "OverallQual      0.790982\n",
              "OverallCond     -0.077856\n",
              "YearBuilt        0.522897\n",
              "YearRemodAdd     0.507101\n",
              "MasVnrArea       0.477493\n",
              "BsmtFinSF1       0.386420\n",
              "BsmtFinSF2      -0.011378\n",
              "BsmtUnfSF        0.214479\n",
              "TotalBsmtSF      0.613581\n",
              "1stFlrSF         0.605852\n",
              "2ndFlrSF         0.319334\n",
              "LowQualFinSF    -0.025606\n",
              "GrLivArea        0.708624\n",
              "BsmtFullBath     0.227122\n",
              "BsmtHalfBath    -0.016844\n",
              "FullBath         0.560664\n",
              "HalfBath         0.284108\n",
              "BedroomAbvGr     0.168213\n",
              "KitchenAbvGr    -0.135907\n",
              "TotRmsAbvGrd     0.533723\n",
              "Fireplaces       0.466929\n",
              "GarageYrBlt      0.486362\n",
              "GarageCars       0.640409\n",
              "GarageArea       0.623431\n",
              "WoodDeckSF       0.324413\n",
              "OpenPorchSF      0.315856\n",
              "EnclosedPorch   -0.128578\n",
              "3SsnPorch        0.044584\n",
              "ScreenPorch      0.111447\n",
              "PoolArea         0.092404\n",
              "MiscVal         -0.021190\n",
              "MoSold           0.046432\n",
              "YrSold          -0.028923\n",
              "Name: SalePrice, dtype: float64"
            ]
          },
          "metadata": {},
          "execution_count": 55
        }
      ]
    },
    {
      "cell_type": "markdown",
      "source": [
        "Overall quality is most positively correlated"
      ],
      "metadata": {
        "id": "W1uWi0nLlMo2"
      }
    },
    {
      "cell_type": "markdown",
      "metadata": {
        "id": "972BmQDmfgjt"
      },
      "source": [
        "Now, find the ***most negatively correlated*** column:"
      ]
    },
    {
      "cell_type": "code",
      "execution_count": 56,
      "metadata": {
        "id": "QwoohQ99fgjt",
        "outputId": "8e4263b3-5b23-4c3d-8dbd-678f40800a7b",
        "colab": {
          "base_uri": "https://localhost:8080/"
        }
      },
      "outputs": [
        {
          "output_type": "execute_result",
          "data": {
            "text/plain": [
              "-0.13590737084214105"
            ]
          },
          "metadata": {},
          "execution_count": 56
        }
      ],
      "source": [
        "df.corr(method='pearson')['SalePrice'].drop('SalePrice').min()"
      ]
    },
    {
      "cell_type": "markdown",
      "source": [
        "Kitchen above ground"
      ],
      "metadata": {
        "id": "-0Xp_nD_lbMS"
      }
    },
    {
      "cell_type": "markdown",
      "metadata": {
        "id": "FTVWbx_hfgjt"
      },
      "source": [
        "Once you have your answer, edit the code below so that it produces a box plot of the relevant columns."
      ]
    },
    {
      "cell_type": "code",
      "execution_count": 63,
      "metadata": {
        "id": "pdvxESnMfgju",
        "outputId": "0e57f4fb-dc04-410e-d6a8-74cafaea3d87",
        "colab": {
          "base_uri": "https://localhost:8080/",
          "height": 350
        }
      },
      "outputs": [
        {
          "output_type": "display_data",
          "data": {
            "text/plain": [
              "<Figure size 1080x360 with 2 Axes>"
            ],
            "image/png": "[encoded data removed]"
          },
          "metadata": {
            "needs_background": "light"
          }
        }
      ],
      "source": [
        "# Replace None with appropriate code\n",
        "\n",
        "import seaborn as sns\n",
        "\n",
        "fig, (ax1, ax2) = plt.subplots(ncols=2, figsize=(15,5))\n",
        "\n",
        "# Plot distribution of column with highest correlation\n",
        "sns.boxplot(\n",
        "    x=df['OverallQual'],\n",
        "    y=df[\"SalePrice\"],\n",
        "    ax=ax1\n",
        ")\n",
        "# Plot distribution of column with most negative correlation\n",
        "sns.boxplot(\n",
        "    x=df['KitchenAbvGr'],\n",
        "    y=df[\"SalePrice\"],\n",
        "    ax=ax2\n",
        ")\n",
        "\n",
        "# Customize labels\n",
        "ax1.set_title('Overall Quality Box Plot')\n",
        "ax1.set_xlabel('Overall Quality')\n",
        "ax1.set_ylabel(\"Sale Price\")\n",
        "ax2.set_title('Kitchen Above Ground Box Plot')\n",
        "ax2.set_xlabel('Kitchen Above Ground')\n",
        "ax2.set_ylabel(\"Floor Of Kitchen\");"
      ]
    },
    {
      "cell_type": "markdown",
      "metadata": {
        "id": "t7n2sm8qfgju"
      },
      "source": [
        "Interpret the results below. Consult `data/data_description.txt` as needed."
      ]
    },
    {
      "cell_type": "code",
      "execution_count": 64,
      "metadata": {
        "id": "r0Yt5iGrfgju",
        "outputId": "4386154e-3706-4e5a-db05-e579646b49b3",
        "colab": {
          "base_uri": "https://localhost:8080/",
          "height": 53
        }
      },
      "outputs": [
        {
          "output_type": "execute_result",
          "data": {
            "text/plain": [
              "'\\nThere is an obvious positive correlation between quality and price, the higher the quality always results in a higher mean. \\n\\nThe opposite is true. If the ktichen is anywhere aside from the first floor, the average home price starts to dip. \\n'"
            ],
            "application/vnd.google.colaboratory.intrinsic+json": {
              "type": "string"
            }
          },
          "metadata": {},
          "execution_count": 64
        }
      ],
      "source": [
        "# Replace None with appropriate text\n",
        "\"\"\"\n",
        "There is an obvious positive correlation between quality and price, the higher the quality always results in a higher mean. \n",
        "\n",
        "The opposite is true. If the ktichen is anywhere aside from the first floor, the average home price starts to dip. \n",
        "\"\"\""
      ]
    },
    {
      "cell_type": "markdown",
      "metadata": {
        "id": "rKIMd9vCfgju"
      },
      "source": [
        "## 5. Engineer and Explore a New Feature\n",
        "\n",
        "Here the code is written for you, all you need to do is interpret it.\n",
        "\n",
        "We note that the data spans across several years of sales:"
      ]
    },
    {
      "cell_type": "code",
      "execution_count": 60,
      "metadata": {
        "id": "hFFl7L_Efgju",
        "outputId": "7634e3a8-948a-44d7-fa1b-d35f42935375",
        "colab": {
          "base_uri": "https://localhost:8080/"
        }
      },
      "outputs": [
        {
          "output_type": "execute_result",
          "data": {
            "text/plain": [
              "2006    314\n",
              "2007    329\n",
              "2008    304\n",
              "2009    338\n",
              "2010    175\n",
              "Name: YrSold, dtype: int64"
            ]
          },
          "metadata": {},
          "execution_count": 60
        }
      ],
      "source": [
        "# Run this cell without changes\n",
        "df[\"YrSold\"].value_counts().sort_index()"
      ]
    },
    {
      "cell_type": "markdown",
      "metadata": {
        "id": "ZnEa-5YTfgju"
      },
      "source": [
        "Maybe we can learn something interesting from the age of the home when it was sold. This uses information from the `YrBuilt` and `YrSold` columns, but represents a truly distinct feature."
      ]
    },
    {
      "cell_type": "code",
      "execution_count": 61,
      "metadata": {
        "id": "ZZV5t4Cufgju",
        "outputId": "e0292fb6-670e-4996-aa33-d8c20ff30468",
        "colab": {
          "base_uri": "https://localhost:8080/",
          "height": 350
        }
      },
      "outputs": [
        {
          "output_type": "display_data",
          "data": {
            "text/plain": [
              "<Figure size 1080x360 with 1 Axes>"
            ],
            "image/png": "[encoded data removed]"
          },
          "metadata": {
            "needs_background": "light"
          }
        }
      ],
      "source": [
        "# Run this cell without changes\n",
        "\n",
        "# Make a new column, Age\n",
        "df[\"Age\"] = df[\"YrSold\"] - df[\"YearBuilt\"]\n",
        "\n",
        "# Set up plot\n",
        "fig, ax = plt.subplots(figsize=(15,5))\n",
        "\n",
        "# Plot Age vs. SalePrice\n",
        "ax.scatter(df[\"Age\"], df[\"SalePrice\"], alpha=0.3, color=\"green\")\n",
        "ax.set_title(\"Home Age vs. Sale Price\")\n",
        "ax.set_xlabel(\"Age of Home at Time of Sale\")\n",
        "ax.set_ylabel(\"Sale Price\");"
      ]
    },
    {
      "cell_type": "markdown",
      "metadata": {
        "id": "YjQjMPMFfgju"
      },
      "source": [
        "Interpret this plot below:"
      ]
    },
    {
      "cell_type": "code",
      "execution_count": 66,
      "metadata": {
        "id": "RHrnNFrUfgju",
        "outputId": "d111867f-e132-4a66-bf18-eda48cc7a752",
        "colab": {
          "base_uri": "https://localhost:8080/",
          "height": 53
        }
      },
      "outputs": [
        {
          "output_type": "execute_result",
          "data": {
            "text/plain": [
              "'\\nThere is a positive correlation between how new a home is and the sale price in general. Brand new homes have a higher average sale price. Althought here are some very old \\nhomes that have higher sale prices than homes that are 20-60 years old.  \\n'"
            ],
            "application/vnd.google.colaboratory.intrinsic+json": {
              "type": "string"
            }
          },
          "metadata": {},
          "execution_count": 66
        }
      ],
      "source": [
        "# Replace None with appropriate text\n",
        "\"\"\"\n",
        "There is a positive correlation between how new a home is and the sale price in general. Brand new homes have a higher average sale price. Althought here are some very old \n",
        "homes that have higher sale prices than homes that are 20-60 years old.  \n",
        "\"\"\""
      ]
    },
    {
      "cell_type": "markdown",
      "metadata": {
        "id": "gB6PxYrMfgju"
      },
      "source": [
        "## Summary\n",
        "\n",
        "Congratulations, you've completed an exploratory data analysis of a popular dataset! You saw how to inspect the distributions of individual columns, subsets of columns, correlations, and new engineered features."
      ]
    }
  ],
  "metadata": {
    "kernelspec": {
      "display_name": "python (learn-env)",
      "language": "python",
      "name": "learn-env"
    },
    "language_info": {
      "codemirror_mode": {
        "name": "ipython",
        "version": 3
      },
      "file_extension": ".py",
      "mimetype": "text/x-python",
      "name": "python",
      "nbconvert_exporter": "python",
      "pygments_lexer": "ipython3",
      "version": "3.8.5"
    },
    "colab": {
      "provenance": []
    }
  },
  "nbformat": 4,
  "nbformat_minor": 0
}